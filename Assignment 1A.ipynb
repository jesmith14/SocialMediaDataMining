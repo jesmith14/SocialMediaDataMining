{
 "cells": [
  {
   "cell_type": "markdown",
   "metadata": {},
   "source": [
    "# Setup"
   ]
  },
  {
   "cell_type": "code",
   "execution_count": 1,
   "metadata": {
    "collapsed": true
   },
   "outputs": [],
   "source": [
    "import tweepy\n",
    "import json\n",
    "\n",
    "api_key = 'CYNk3gteB84Yc74GHuB5HMQHy'\n",
    "api_secret = 'hlscuCisPhrfL1bD2aA5igLp95pbQW4jNxaWXtPgSAjDpSkIS1'\n",
    "access_token = '764225096642736128-MWzQKUROrQe9Ha7fHQoGI0pWwnJrtbC'\n",
    "access_secret = '9gPX4hpP7bMPvaUxI87FMC8MdcMju89OO6nWVCiRyerJY'"
   ]
  },
  {
   "cell_type": "code",
   "execution_count": 2,
   "metadata": {
    "collapsed": true
   },
   "outputs": [],
   "source": [
    "auth = tweepy.OAuthHandler(api_key, api_secret)\n",
    "auth.set_access_token(access_token, access_secret)\n",
    "\n",
    "api = tweepy.API(auth)"
   ]
  },
  {
   "cell_type": "markdown",
   "metadata": {},
   "source": [
    "# Streaming Tweets & Writing to a File"
   ]
  },
  {
   "cell_type": "code",
   "execution_count": 19,
   "metadata": {
    "collapsed": true
   },
   "outputs": [],
   "source": [
    "class MyStreamListener(tweepy.StreamListener):\n",
    "    def __init__(self):\n",
    "        self.tweet_count = 0\n",
    "        self.file = open(\"tweets.json\", \"w\")\n",
    "        super(MyStreamListener, self).__init__()\n",
    "    \n",
    "    def on_data(self, data):\n",
    "        data = json.loads(data)\n",
    "        self.tweet_count += 1\n",
    "        if self.tweet_count <= 10:\n",
    "            json.dump(data, self.file)\n",
    "            self.file.write('\\n')\n",
    "            return True\n",
    "        else:\n",
    "            self.file.close()\n",
    "            return False"
   ]
  },
  {
   "cell_type": "code",
   "execution_count": 22,
   "metadata": {},
   "outputs": [],
   "source": [
    "myListener = MyStreamListener()\n",
    "myStream = tweepy.Stream(auth=api.auth, listener=myListener)\n",
    "\n",
    "myStream.sample()"
   ]
  }
 ],
 "metadata": {
  "kernelspec": {
   "display_name": "Python 3",
   "language": "python",
   "name": "python3"
  },
  "language_info": {
   "codemirror_mode": {
    "name": "ipython",
    "version": 3
   },
   "file_extension": ".py",
   "mimetype": "text/x-python",
   "name": "python",
   "nbconvert_exporter": "python",
   "pygments_lexer": "ipython3",
   "version": "3.6.1"
  }
 },
 "nbformat": 4,
 "nbformat_minor": 2
}
